{
 "cells": [
  {
   "cell_type": "code",
   "execution_count": 1,
   "id": "2b156376-a244-47f3-9f4a-0d2c5543c61b",
   "metadata": {},
   "outputs": [],
   "source": [
    "import sys\n",
    "import os\n",
    "import yaml\n",
    "from collections import defaultdict\n",
    "from concurrent.futures import ThreadPoolExecutor\n",
    "from langchain_core.messages import HumanMessage\n",
    "from functools import partial"
   ]
  },
  {
   "cell_type": "code",
   "execution_count": 9,
   "id": "52beb35a-c410-4158-8e87-35a442758f34",
   "metadata": {
    "tags": []
   },
   "outputs": [],
   "source": [
    "path = os.getcwd()\n",
    "sys.path.append(os.path.abspath(os.path.join(path, os.pardir)))"
   ]
  },
  {
   "cell_type": "code",
   "execution_count": null,
   "id": "828a8fa0-8b96-488e-b6a9-eaa6afa3cd5a",
   "metadata": {},
   "outputs": [],
   "source": [
    "import helpers.generic_pdf_parser.generic_pdf_parser as gpp\n",
    "from resources.chains import invoice_details_chain#, important_information_chain, other_details_chain, account_summary_chain, lines_info_chain, plan_page_chain, period_details_chain"
   ]
  },
  {
   "cell_type": "code",
   "execution_count": 1,
   "id": "a3aa2f56-c1b2-4ca1-917b-eb64bddfb19c",
   "metadata": {
    "tags": []
   },
   "outputs": [],
   "source": [
    "import os\n",
    "import sys"
   ]
  },
  {
   "cell_type": "code",
   "execution_count": 14,
   "id": "9b716e84-128d-4af8-bb92-599327fcbbc5",
   "metadata": {},
   "outputs": [],
   "source": [
    "path = os.getcwd()\n",
    "sys.path.append(os.path.abspath(os.path.join(path, os.pardir)))\n",
    "from cymbal_demo import ocr_parser\n",
    "\n",
    "my_dict = ocr_parser.parse_pdf(\"gs://cymbal_invoice_parser/bills/sample_phone_invoice1.pdf\")\n"
   ]
  },
  {
   "cell_type": "code",
   "execution_count": null,
   "id": "1dba86fd-6e03-4760-9534-0634d5813326",
   "metadata": {
    "tags": []
   },
   "outputs": [],
   "source": [
    "from helpers.utils import convert_dict_to_text\n",
    "\n",
    "print(convert_dict_to_text(my_dict))"
   ]
  },
  {
   "cell_type": "code",
   "execution_count": null,
   "id": "d3cb7705-f163-48d1-838b-fca1eb9a869a",
   "metadata": {},
   "outputs": [],
   "source": []
  }
 ],
 "metadata": {
  "environment": {
   "kernel": "conda-base-py",
   "name": "workbench-notebooks.m129",
   "type": "gcloud",
   "uri": "us-docker.pkg.dev/deeplearning-platform-release/gcr.io/workbench-notebooks:m129"
  },
  "kernelspec": {
   "display_name": "Python 3 (ipykernel) (Local)",
   "language": "python",
   "name": "conda-base-py"
  },
  "language_info": {
   "codemirror_mode": {
    "name": "ipython",
    "version": 3
   },
   "file_extension": ".py",
   "mimetype": "text/x-python",
   "name": "python",
   "nbconvert_exporter": "python",
   "pygments_lexer": "ipython3",
   "version": "3.10.16"
  }
 },
 "nbformat": 4,
 "nbformat_minor": 5
}
